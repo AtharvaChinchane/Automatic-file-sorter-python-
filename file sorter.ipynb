{
 "cells": [
  {
   "cell_type": "code",
   "execution_count": 1,
   "id": "f88f2d48-8f17-40b7-a1d7-43effafbde16",
   "metadata": {},
   "outputs": [],
   "source": [
    "import os"
   ]
  },
  {
   "cell_type": "code",
   "execution_count": 5,
   "id": "a98f7020-4dee-40b2-ba22-7ba1773226b3",
   "metadata": {},
   "outputs": [],
   "source": [
    "path=r\"path of the file\""
   ]
  },
  {
   "cell_type": "code",
   "execution_count": 13,
   "id": "76efcf69-59a3-4de8-a9e5-2eb3847cf255",
   "metadata": {},
   "outputs": [],
   "source": [
    "file_name=os.listdir(path)"
   ]
  },
  {
   "cell_type": "code",
   "execution_count": 11,
   "id": "ecdc0520-bf06-4009-9ccb-5e9de759ac42",
   "metadata": {},
   "outputs": [
    {
     "data": {
      "text/plain": [
       "False"
      ]
     },
     "execution_count": 11,
     "metadata": {},
     "output_type": "execute_result"
    }
   ],
   "source": [
    "folder_names=['Types of files'}\n",
    "for loop in range(0,n):\n",
    "    if not os.path.exists(path+folder_names[loop]):\n",
    "        print(path+folder_names[loop])\n",
    "        os.makedirs(path+folder_names[loop])\n",
    "for file in file_name:\n",
    "    if \"filetype\" in file and not os.path.exists(path+\"filetype/\"+file):\n",
    "        shutil.move(path+file,path+\"filetype/\"+file)\n",
    "    elif \"filetype\" in file and not os.path.exists(path+\"filetype/\"+file):\n",
    "        shutil.move(path+file,path+\"filetype/\"+file)\n",
    "    elif \"filetype\" in file and not os.path.exists(path+\"filetype/\"+file):\n",
    "        shutil.move(path+file,path+\"filetype/\"+file)"
   ]
  },
  {
   "cell_type": "code",
   "execution_count": null,
   "id": "ecd99c38-01f9-4298-a6af-49ce9831dff7",
   "metadata": {},
   "outputs": [],
   "source": []
  }
 ],
 "metadata": {
  "kernelspec": {
   "display_name": "Python 3 (ipykernel)",
   "language": "python",
   "name": "python3"
  },
  "language_info": {
   "codemirror_mode": {
    "name": "ipython",
    "version": 3
   },
   "file_extension": ".py",
   "mimetype": "text/x-python",
   "name": "python",
   "nbconvert_exporter": "python",
   "pygments_lexer": "ipython3",
   "version": "3.12.4"
  }
 },
 "nbformat": 4,
 "nbformat_minor": 5
}
